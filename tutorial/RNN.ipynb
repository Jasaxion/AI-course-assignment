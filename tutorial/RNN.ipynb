{
 "cells": [
  {
   "cell_type": "code",
   "execution_count": 1,
   "metadata": {},
   "outputs": [],
   "source": [
    "#数据集的处理\n",
    "import os\n",
    "import torch\n",
    "from torch.utils.data import Dataset, DataLoader\n",
    "import torch.nn as nn\n",
    "import torch.optim as optim\n",
    "class ChineseSegmentationDataset(Dataset):\n",
    "    def __init__(self, data_path, max_len=50):\n",
    "        self.data_path = data_path\n",
    "        self.max_len = max_len\n",
    "        self.sentences, self.labels = self.load_data()\n",
    "\n",
    "    def load_data(self):\n",
    "        sentences = []\n",
    "        labels = []\n",
    "        with open(self.data_path, 'r', encoding='utf-8') as f:\n",
    "            for line in f:\n",
    "                words = line.strip().split()\n",
    "                sentence = []\n",
    "                label = []\n",
    "                for word in words:\n",
    "                    if len(word) == 1:\n",
    "                        sentence.append(word)\n",
    "                        label.append('S')\n",
    "                    else:\n",
    "                        sentence.append(word[0])\n",
    "                        label.append('B')\n",
    "                        for char in word[1:-1]:\n",
    "                            sentence.append(char)\n",
    "                            label.append('M')\n",
    "                        sentence.append(word[-1])\n",
    "                        label.append('E')\n",
    "                sentences.append(sentence)\n",
    "                labels.append(label)\n",
    "        return sentences, labels\n",
    "\n",
    "    def __len__(self):\n",
    "        return len(self.sentences)\n",
    "\n",
    "    def __getitem__(self, idx):\n",
    "        sentence = self.sentences[idx][:self.max_len]\n",
    "        label = self.labels[idx][:self.max_len]\n",
    "        return sentence, label\n",
    "\n",
    "# 示例数据集路径\n",
    "data_path = '/home/shaoxiong/exa/人工智能大作业/dataset/icwb2-data/training/msr_training.utf8'\n",
    "dataset = ChineseSegmentationDataset(data_path)"
   ]
  },
  {
   "cell_type": "code",
   "execution_count": 2,
   "metadata": {},
   "outputs": [],
   "source": [
    "class RNNSegmentationModel(nn.Module):\n",
    "    def __init__(self, vocab_size, tag_size, embedding_dim=128, hidden_dim=256, num_layers=2):\n",
    "        super(RNNSegmentationModel, self).__init__()\n",
    "        self.embedding = nn.Embedding(vocab_size, embedding_dim)\n",
    "        self.lstm = nn.LSTM(embedding_dim, hidden_dim, num_layers, batch_first=True, bidirectional=True)\n",
    "        self.fc = nn.Linear(hidden_dim * 2, tag_size)\n",
    "\n",
    "    def forward(self, x):\n",
    "        x = self.embedding(x)\n",
    "        lstm_out, _ = self.lstm(x)\n",
    "        tag_space = self.fc(lstm_out)\n",
    "        return tag_space\n",
    "\n",
    "# 构建词汇表和标签表\n",
    "vocab = set()\n",
    "tags = set()\n",
    "for sentence in dataset.sentences:\n",
    "    vocab.update(sentence)\n",
    "for label in dataset.labels:\n",
    "    tags.update(label)\n",
    "    \n",
    "vocab_size = len(vocab)\n",
    "tag_size = len(tags)\n",
    "\n",
    "# 构建字符到索引的映射\n",
    "char_to_idx = {char: idx for idx, char in enumerate(vocab)}\n",
    "tag_to_idx = {tag: idx for idx, tag in enumerate(tags)}"
   ]
  },
  {
   "cell_type": "code",
   "execution_count": 9,
   "metadata": {},
   "outputs": [
    {
     "ename": "KeyError",
     "evalue": "'蹶'",
     "output_type": "error",
     "traceback": [
      "\u001b[0;31m---------------------------------------------------------------------------\u001b[0m",
      "\u001b[0;31mKeyError\u001b[0m                                  Traceback (most recent call last)",
      "Cell \u001b[0;32mIn[9], line 1\u001b[0m\n\u001b[0;32m----> 1\u001b[0m \u001b[43mchar_to_idx\u001b[49m\u001b[43m[\u001b[49m\u001b[38;5;124;43m'\u001b[39;49m\u001b[38;5;124;43m蹶\u001b[39;49m\u001b[38;5;124;43m'\u001b[39;49m\u001b[43m]\u001b[49m\n",
      "\u001b[0;31mKeyError\u001b[0m: '蹶'"
     ]
    }
   ],
   "source": [
    "char_to_idx['蹶']"
   ]
  },
  {
   "cell_type": "code",
   "execution_count": 3,
   "metadata": {},
   "outputs": [],
   "source": [
    "# 将数据转换为索引\n",
    "def encode_data(sentences, labels):\n",
    "    encoded_sentences = []\n",
    "    encoded_labels = []\n",
    "    for sentence, label in zip(sentences, labels):\n",
    "        encoded_sentence = [char_to_idx[char] for char in sentence]\n",
    "        encoded_label = [tag_to_idx[tag] for tag in label]\n",
    "        encoded_sentences.append(encoded_sentence)\n",
    "        encoded_labels.append(encoded_label)\n",
    "    return encoded_sentences, encoded_labels\n",
    "\n",
    "encoded_sentences, encoded_labels = encode_data(dataset.sentences, dataset.labels)"
   ]
  },
  {
   "cell_type": "code",
   "execution_count": 4,
   "metadata": {},
   "outputs": [
    {
     "name": "stdout",
     "output_type": "stream",
     "text": [
      "torch.Size([86924, 581])\n",
      "torch.Size([86924, 581])\n"
     ]
    },
    {
     "name": "stderr",
     "output_type": "stream",
     "text": [
      "/home/shaoxiong/anaconda3/envs/embed/lib/python3.10/site-packages/transformers/utils/generic.py:441: UserWarning: torch.utils._pytree._register_pytree_node is deprecated. Please use torch.utils._pytree.register_pytree_node instead.\n",
      "  _torch_pytree._register_pytree_node(\n"
     ]
    }
   ],
   "source": [
    "# 将数据转换为Tensor\n",
    "from torch.nn.utils.rnn import pad_sequence\n",
    "encoded_sentences = [torch.tensor(seq, dtype=torch.long) for seq in encoded_sentences]\n",
    "encoded_labels = [torch.tensor(seq, dtype=torch.long) for seq in encoded_labels]\n",
    "\n",
    "padded_sentences = pad_sequence(encoded_sentences, batch_first=True, padding_value=0)\n",
    "padded_labels = pad_sequence(encoded_labels, batch_first=True, padding_value=0)\n",
    "\n",
    "print(padded_sentences.shape)\n",
    "print(padded_labels.shape)\n",
    "\n",
    "# 构建DataLoader\n",
    "train_data = torch.utils.data.TensorDataset(padded_sentences, padded_labels)\n",
    "train_loader = DataLoader(train_data, batch_size=32, shuffle=True)\n",
    "\n",
    "# 初始化模型、损失函数和优化器\n",
    "model = RNNSegmentationModel(vocab_size, tag_size)\n",
    "criterion = nn.CrossEntropyLoss()\n",
    "optimizer = optim.Adam(model.parameters(), lr=0.001)"
   ]
  },
  {
   "cell_type": "code",
   "execution_count": 6,
   "metadata": {},
   "outputs": [
    {
     "name": "stdout",
     "output_type": "stream",
     "text": [
      "start training\n",
      "Starting epoch 1/1\n",
      "Starting batch 1/2717\n",
      "Starting batch 101/2717\n",
      "Starting batch 201/2717\n",
      "Starting batch 301/2717\n",
      "Starting batch 401/2717\n",
      "Starting batch 501/2717\n",
      "Starting batch 601/2717\n",
      "Starting batch 701/2717\n",
      "Starting batch 801/2717\n",
      "Starting batch 901/2717\n",
      "Starting batch 1001/2717\n",
      "Starting batch 1101/2717\n",
      "Starting batch 1201/2717\n",
      "Starting batch 1301/2717\n",
      "Starting batch 1401/2717\n",
      "Starting batch 1501/2717\n",
      "Starting batch 1601/2717\n",
      "Starting batch 1701/2717\n",
      "Starting batch 1801/2717\n",
      "Starting batch 1901/2717\n",
      "Starting batch 2001/2717\n",
      "Starting batch 2101/2717\n",
      "Starting batch 2201/2717\n",
      "Starting batch 2301/2717\n",
      "Starting batch 2401/2717\n",
      "Starting batch 2501/2717\n",
      "Starting batch 2601/2717\n",
      "Starting batch 2701/2717\n",
      "Epoch 1/1, Loss: 0.024512715492518204\n"
     ]
    }
   ],
   "source": [
    "def train_model(model, train_loader, criterion, optimizer, epochs=1, device='cuda'):\n",
    "    model.to(device)\n",
    "    model.train()\n",
    "    print('start training')\n",
    "    for epoch in range(epochs):\n",
    "        total_loss = 0\n",
    "        print(f'Starting epoch {epoch+1}/{epochs}')\n",
    "        for batch_idx, (inputs, targets) in enumerate(train_loader):\n",
    "            if batch_idx % 100 == 0:\n",
    "                print(f'Starting batch {batch_idx+1}/{len(train_loader)}')\n",
    "            inputs, targets = inputs.to(device), targets.to(device)\n",
    "            optimizer.zero_grad()\n",
    "            outputs = model(inputs)\n",
    "            loss = criterion(outputs.view(-1, outputs.size(-1)), targets.view(-1))\n",
    "            loss.backward()\n",
    "            optimizer.step()\n",
    "            total_loss += loss.item()\n",
    "        print(f'Epoch {epoch+1}/{epochs}, Loss: {total_loss/len(train_loader)}')\n",
    "\n",
    "# 假设 model, train_loader, criterion 和 optimizer 已经定义\n",
    "device = torch.device('cuda' if torch.cuda.is_available() else 'cpu')\n",
    "train_model(model, train_loader, criterion, optimizer, epochs=1, device=device)"
   ]
  },
  {
   "cell_type": "code",
   "execution_count": 7,
   "metadata": {},
   "outputs": [],
   "source": [
    "def evaluate_model(model, test_data_path):\n",
    "    model.eval()\n",
    "    test_dataset = ChineseSegmentationDataset(test_data_path)\n",
    "    encoded_test_sentences, _ = encode_data(test_dataset.sentences, test_dataset.labels)\n",
    "    encoded_test_sentences = torch.tensor(encoded_test_sentences, dtype=torch.long)\n",
    "\n",
    "    with torch.no_grad():\n",
    "        outputs = model(encoded_test_sentences)\n",
    "        predicted_tags = torch.argmax(outputs, dim=2)\n",
    "\n",
    "    # 将预测的标签转换回字符\n",
    "    idx_to_tag = {idx: tag for tag, idx in tag_to_idx.items()}\n",
    "    predicted_tags = [[idx_to_tag[idx.item()] for idx in tag_seq] for tag_seq in predicted_tags]\n",
    "\n",
    "    # 计算准确率\n",
    "    correct = 0\n",
    "    total = 0\n",
    "    for pred, true in zip(predicted_tags, test_dataset.labels):\n",
    "        for p, t in zip(pred, true):\n",
    "            if p == t:\n",
    "                correct += 1\n",
    "            total += 1\n",
    "\n",
    "    accuracy = correct / total\n",
    "    print(f'Accuracy: {accuracy * 100:.2f}%')"
   ]
  },
  {
   "cell_type": "code",
   "execution_count": null,
   "metadata": {},
   "outputs": [
    {
     "data": {
      "text/plain": [
       "tensor([[ 5.4841, -0.4276, -5.2244, -4.0390],\n",
       "        [ 0.1195,  6.1962, -4.8442, -1.8282],\n",
       "        [-0.5346, -4.9230,  5.4511, -0.1871],\n",
       "        ...,\n",
       "        [10.2005, -5.1622, -5.9810, -6.4846],\n",
       "        [ 9.4669, -4.2138, -6.1826, -5.8788],\n",
       "        [ 7.7843, -2.4542, -6.2304, -4.7637]], device='cuda:0',\n",
       "       grad_fn=<AddmmBackward0>)"
      ]
     },
     "execution_count": 16,
     "metadata": {},
     "output_type": "execute_result"
    }
   ],
   "source": [
    "model.eval()\n",
    "outputs = model(padded_sentences[0].to('cuda'))\n",
    "predicted_tags = torch.argmax(outputs)\n"
   ]
  },
  {
   "cell_type": "code",
   "execution_count": null,
   "metadata": {},
   "outputs": [],
   "source": []
  }
 ],
 "metadata": {
  "kernelspec": {
   "display_name": "embed",
   "language": "python",
   "name": "python3"
  },
  "language_info": {
   "codemirror_mode": {
    "name": "ipython",
    "version": 3
   },
   "file_extension": ".py",
   "mimetype": "text/x-python",
   "name": "python",
   "nbconvert_exporter": "python",
   "pygments_lexer": "ipython3",
   "version": "3.10.14"
  }
 },
 "nbformat": 4,
 "nbformat_minor": 2
}
